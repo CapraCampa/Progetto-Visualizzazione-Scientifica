{
 "cells": [
  {
   "cell_type": "code",
   "execution_count": 89,
   "id": "2b4705d9",
   "metadata": {},
   "outputs": [
    {
     "ename": "ModuleNotFoundError",
     "evalue": "No module named 'geopandas'",
     "output_type": "error",
     "traceback": [
      "\u001b[1;31m---------------------------------------------------------------------------\u001b[0m",
      "\u001b[1;31mModuleNotFoundError\u001b[0m                       Traceback (most recent call last)",
      "\u001b[1;32m~\\AppData\\Local\\Temp\\ipykernel_13636\\3122467971.py\u001b[0m in \u001b[0;36m<module>\u001b[1;34m\u001b[0m\n\u001b[0;32m      4\u001b[0m \u001b[1;32mimport\u001b[0m \u001b[0mstatsmodels\u001b[0m\u001b[1;33m.\u001b[0m\u001b[0mapi\u001b[0m \u001b[1;32mas\u001b[0m \u001b[0msm\u001b[0m\u001b[1;33m\u001b[0m\u001b[1;33m\u001b[0m\u001b[0m\n\u001b[0;32m      5\u001b[0m \u001b[1;32mimport\u001b[0m \u001b[0mpandas\u001b[0m \u001b[1;32mas\u001b[0m \u001b[0mpd\u001b[0m\u001b[1;33m\u001b[0m\u001b[1;33m\u001b[0m\u001b[0m\n\u001b[1;32m----> 6\u001b[1;33m \u001b[1;32mimport\u001b[0m \u001b[0mgeopandas\u001b[0m \u001b[1;32mas\u001b[0m \u001b[0mgpd\u001b[0m\u001b[1;33m\u001b[0m\u001b[1;33m\u001b[0m\u001b[0m\n\u001b[0m\u001b[0;32m      7\u001b[0m \u001b[1;32mimport\u001b[0m \u001b[0mmath\u001b[0m\u001b[1;33m\u001b[0m\u001b[1;33m\u001b[0m\u001b[0m\n\u001b[0;32m      8\u001b[0m \u001b[1;32mimport\u001b[0m \u001b[0mmatplotlib\u001b[0m\u001b[1;33m.\u001b[0m\u001b[0mpyplot\u001b[0m \u001b[1;32mas\u001b[0m \u001b[0mplt\u001b[0m\u001b[1;33m\u001b[0m\u001b[1;33m\u001b[0m\u001b[0m\n",
      "\u001b[1;31mModuleNotFoundError\u001b[0m: No module named 'geopandas'"
     ]
    }
   ],
   "source": [
    "%matplotlib inline\n",
    "import numpy as np\n",
    "import scipy.stats as st\n",
    "import statsmodels.api as sm\n",
    "import pandas as pd\n",
    "import geopandas as gpd\n",
    "import math\n",
    "import matplotlib.pyplot as plt"
   ]
  },
  {
   "cell_type": "code",
   "execution_count": 14,
   "id": "bda4d930",
   "metadata": {},
   "outputs": [
    {
     "data": {
      "text/html": [
       "<div>\n",
       "<style scoped>\n",
       "    .dataframe tbody tr th:only-of-type {\n",
       "        vertical-align: middle;\n",
       "    }\n",
       "\n",
       "    .dataframe tbody tr th {\n",
       "        vertical-align: top;\n",
       "    }\n",
       "\n",
       "    .dataframe thead th {\n",
       "        text-align: right;\n",
       "    }\n",
       "</style>\n",
       "<table border=\"1\" class=\"dataframe\">\n",
       "  <thead>\n",
       "    <tr style=\"text-align: right;\">\n",
       "      <th></th>\n",
       "      <th>Country Name</th>\n",
       "      <th>Country ISO3</th>\n",
       "      <th>Year</th>\n",
       "      <th>Indicator Name</th>\n",
       "      <th>Indicator Code</th>\n",
       "      <th>Value</th>\n",
       "    </tr>\n",
       "  </thead>\n",
       "  <tbody>\n",
       "    <tr>\n",
       "      <th>1065</th>\n",
       "      <td>Italy</td>\n",
       "      <td>ITA</td>\n",
       "      <td>2018</td>\n",
       "      <td>Hospital beds (per 1,000 people)</td>\n",
       "      <td>SH.MED.BEDS.ZS</td>\n",
       "      <td>3.14</td>\n",
       "    </tr>\n",
       "    <tr>\n",
       "      <th>1066</th>\n",
       "      <td>Italy</td>\n",
       "      <td>ITA</td>\n",
       "      <td>2017</td>\n",
       "      <td>Hospital beds (per 1,000 people)</td>\n",
       "      <td>SH.MED.BEDS.ZS</td>\n",
       "      <td>3.18</td>\n",
       "    </tr>\n",
       "    <tr>\n",
       "      <th>1067</th>\n",
       "      <td>Italy</td>\n",
       "      <td>ITA</td>\n",
       "      <td>2016</td>\n",
       "      <td>Hospital beds (per 1,000 people)</td>\n",
       "      <td>SH.MED.BEDS.ZS</td>\n",
       "      <td>3.17</td>\n",
       "    </tr>\n",
       "    <tr>\n",
       "      <th>1068</th>\n",
       "      <td>Italy</td>\n",
       "      <td>ITA</td>\n",
       "      <td>2015</td>\n",
       "      <td>Hospital beds (per 1,000 people)</td>\n",
       "      <td>SH.MED.BEDS.ZS</td>\n",
       "      <td>3.20</td>\n",
       "    </tr>\n",
       "    <tr>\n",
       "      <th>1069</th>\n",
       "      <td>Italy</td>\n",
       "      <td>ITA</td>\n",
       "      <td>2014</td>\n",
       "      <td>Hospital beds (per 1,000 people)</td>\n",
       "      <td>SH.MED.BEDS.ZS</td>\n",
       "      <td>3.21</td>\n",
       "    </tr>\n",
       "  </tbody>\n",
       "</table>\n",
       "</div>"
      ],
      "text/plain": [
       "     Country Name Country ISO3  Year                    Indicator Name  \\\n",
       "1065        Italy          ITA  2018  Hospital beds (per 1,000 people)   \n",
       "1066        Italy          ITA  2017  Hospital beds (per 1,000 people)   \n",
       "1067        Italy          ITA  2016  Hospital beds (per 1,000 people)   \n",
       "1068        Italy          ITA  2015  Hospital beds (per 1,000 people)   \n",
       "1069        Italy          ITA  2014  Hospital beds (per 1,000 people)   \n",
       "\n",
       "      Indicator Code  Value  \n",
       "1065  SH.MED.BEDS.ZS   3.14  \n",
       "1066  SH.MED.BEDS.ZS   3.18  \n",
       "1067  SH.MED.BEDS.ZS   3.17  \n",
       "1068  SH.MED.BEDS.ZS   3.20  \n",
       "1069  SH.MED.BEDS.ZS   3.21  "
      ]
     },
     "execution_count": 14,
     "metadata": {},
     "output_type": "execute_result"
    }
   ],
   "source": [
    "data = pd.read_csv(\"Datasets/health_ita.csv\", sep=\",\",decimal=\".\")\n",
    "#print(data[\"Indicator Name\"].unique())\n",
    "data[data[\"Indicator Name\"] == \"Hospital beds (per 1,000 people)\"].head()"
   ]
  },
  {
   "cell_type": "code",
   "execution_count": 15,
   "id": "edfce65a",
   "metadata": {},
   "outputs": [
    {
     "data": {
      "text/html": [
       "<div>\n",
       "<style scoped>\n",
       "    .dataframe tbody tr th:only-of-type {\n",
       "        vertical-align: middle;\n",
       "    }\n",
       "\n",
       "    .dataframe tbody tr th {\n",
       "        vertical-align: top;\n",
       "    }\n",
       "\n",
       "    .dataframe thead th {\n",
       "        text-align: right;\n",
       "    }\n",
       "</style>\n",
       "<table border=\"1\" class=\"dataframe\">\n",
       "  <thead>\n",
       "    <tr style=\"text-align: right;\">\n",
       "      <th></th>\n",
       "      <th>Year</th>\n",
       "      <th>Indicator Name</th>\n",
       "      <th>Indicator Code</th>\n",
       "      <th>Value</th>\n",
       "    </tr>\n",
       "  </thead>\n",
       "  <tbody>\n",
       "    <tr>\n",
       "      <th>0</th>\n",
       "      <td>2012</td>\n",
       "      <td>Proportion of women subjected to physical and/...</td>\n",
       "      <td>SG.VAW.1549.ZS</td>\n",
       "      <td>7.00000</td>\n",
       "    </tr>\n",
       "    <tr>\n",
       "      <th>1</th>\n",
       "      <td>2019</td>\n",
       "      <td>Total alcohol consumption per capita, female (...</td>\n",
       "      <td>SH.ALC.PCAP.FE.LI</td>\n",
       "      <td>3.53716</td>\n",
       "    </tr>\n",
       "    <tr>\n",
       "      <th>2</th>\n",
       "      <td>2015</td>\n",
       "      <td>Total alcohol consumption per capita, female (...</td>\n",
       "      <td>SH.ALC.PCAP.FE.LI</td>\n",
       "      <td>3.40767</td>\n",
       "    </tr>\n",
       "    <tr>\n",
       "      <th>3</th>\n",
       "      <td>2010</td>\n",
       "      <td>Total alcohol consumption per capita, female (...</td>\n",
       "      <td>SH.ALC.PCAP.FE.LI</td>\n",
       "      <td>3.21568</td>\n",
       "    </tr>\n",
       "    <tr>\n",
       "      <th>4</th>\n",
       "      <td>2005</td>\n",
       "      <td>Total alcohol consumption per capita, female (...</td>\n",
       "      <td>SH.ALC.PCAP.FE.LI</td>\n",
       "      <td>3.72126</td>\n",
       "    </tr>\n",
       "  </tbody>\n",
       "</table>\n",
       "</div>"
      ],
      "text/plain": [
       "   Year                                     Indicator Name     Indicator Code  \\\n",
       "0  2012  Proportion of women subjected to physical and/...     SG.VAW.1549.ZS   \n",
       "1  2019  Total alcohol consumption per capita, female (...  SH.ALC.PCAP.FE.LI   \n",
       "2  2015  Total alcohol consumption per capita, female (...  SH.ALC.PCAP.FE.LI   \n",
       "3  2010  Total alcohol consumption per capita, female (...  SH.ALC.PCAP.FE.LI   \n",
       "4  2005  Total alcohol consumption per capita, female (...  SH.ALC.PCAP.FE.LI   \n",
       "\n",
       "     Value  \n",
       "0  7.00000  \n",
       "1  3.53716  \n",
       "2  3.40767  \n",
       "3  3.21568  \n",
       "4  3.72126  "
      ]
     },
     "execution_count": 15,
     "metadata": {},
     "output_type": "execute_result"
    }
   ],
   "source": [
    "data = pd.read_csv(\"Datasets/health_ita.csv\", sep=\",\",decimal=\".\")\n",
    "data = data.drop(columns=['Country Name','Country ISO3'])\n",
    "data.head()"
   ]
  },
  {
   "cell_type": "code",
   "execution_count": 68,
   "id": "635d465d",
   "metadata": {},
   "outputs": [
    {
     "data": {
      "text/html": [
       "<div>\n",
       "<style scoped>\n",
       "    .dataframe tbody tr th:only-of-type {\n",
       "        vertical-align: middle;\n",
       "    }\n",
       "\n",
       "    .dataframe tbody tr th {\n",
       "        vertical-align: top;\n",
       "    }\n",
       "\n",
       "    .dataframe thead th {\n",
       "        text-align: right;\n",
       "    }\n",
       "</style>\n",
       "<table border=\"1\" class=\"dataframe\">\n",
       "  <thead>\n",
       "    <tr style=\"text-align: right;\">\n",
       "      <th></th>\n",
       "      <th>Year</th>\n",
       "      <th>Indicator Name</th>\n",
       "      <th>Value</th>\n",
       "    </tr>\n",
       "  </thead>\n",
       "  <tbody>\n",
       "    <tr>\n",
       "      <th>1065</th>\n",
       "      <td>2018</td>\n",
       "      <td>Hospital beds (per 1,000 people)</td>\n",
       "      <td>3.14</td>\n",
       "    </tr>\n",
       "    <tr>\n",
       "      <th>1066</th>\n",
       "      <td>2017</td>\n",
       "      <td>Hospital beds (per 1,000 people)</td>\n",
       "      <td>3.18</td>\n",
       "    </tr>\n",
       "    <tr>\n",
       "      <th>1067</th>\n",
       "      <td>2016</td>\n",
       "      <td>Hospital beds (per 1,000 people)</td>\n",
       "      <td>3.17</td>\n",
       "    </tr>\n",
       "    <tr>\n",
       "      <th>1068</th>\n",
       "      <td>2015</td>\n",
       "      <td>Hospital beds (per 1,000 people)</td>\n",
       "      <td>3.20</td>\n",
       "    </tr>\n",
       "    <tr>\n",
       "      <th>1069</th>\n",
       "      <td>2014</td>\n",
       "      <td>Hospital beds (per 1,000 people)</td>\n",
       "      <td>3.21</td>\n",
       "    </tr>\n",
       "  </tbody>\n",
       "</table>\n",
       "</div>"
      ],
      "text/plain": [
       "      Year                    Indicator Name  Value\n",
       "1065  2018  Hospital beds (per 1,000 people)   3.14\n",
       "1066  2017  Hospital beds (per 1,000 people)   3.18\n",
       "1067  2016  Hospital beds (per 1,000 people)   3.17\n",
       "1068  2015  Hospital beds (per 1,000 people)   3.20\n",
       "1069  2014  Hospital beds (per 1,000 people)   3.21"
      ]
     },
     "execution_count": 68,
     "metadata": {},
     "output_type": "execute_result"
    }
   ],
   "source": [
    "beds = data[data[\"Indicator Name\"] == \"Hospital beds (per 1,000 people)\"]\n",
    "beds=beds.drop('Indicator Code',axis=1)\n",
    "beds.head()"
   ]
  },
  {
   "cell_type": "code",
   "execution_count": 18,
   "id": "8f5f9572",
   "metadata": {},
   "outputs": [
    {
     "data": {
      "image/png": "[encoded data removed]",
      "text/plain": [
       "<Figure size 640x480 with 1 Axes>"
      ]
     },
     "metadata": {},
     "output_type": "display_data"
    }
   ],
   "source": [
    "plt.bar(beds['Year'], beds['Value'], width=1) \n",
    "plt.title(\"Hospital beds (per 1,000 people)\")\n",
    "plt.show()"
   ]
  },
  {
   "cell_type": "code",
   "execution_count": 66,
   "id": "33b3d323",
   "metadata": {},
   "outputs": [
    {
     "data": {
      "image/png": "[encoded data removed]",
      "text/plain": [
       "<Figure size 640x480 with 1 Axes>"
      ]
     },
     "metadata": {},
     "output_type": "display_data"
    }
   ],
   "source": [
    "#VARIANTE!!!!!!!!!!!!!!!!!!!!!!!!!\n",
    "plt.vlines(beds['Year'], 0, beds['Value'], alpha=0.5) \n",
    "plt.plot(beds['Year'], beds['Value'],'.') \n",
    "plt.title(\"Hospital beds (per 1,000 people)\")\n",
    "plt.show()"
   ]
  },
  {
   "cell_type": "code",
   "execution_count": 63,
   "id": "f24ac80d",
   "metadata": {},
   "outputs": [
    {
     "data": {
      "image/png": "[encoded data removed]",
      "text/plain": [
       "<Figure size 640x480 with 1 Axes>"
      ]
     },
     "metadata": {},
     "output_type": "display_data"
    }
   ],
   "source": [
    "#VARIANTE!!!!!!!!!!!!!!!!!!!!!!!!!\n",
    "plt.plot(beds['Year'], beds['Value'], alpha=0.7)\n",
    "plt.plot(beds['Year'], beds['Value'],\".\", color=\"blue\") \n",
    "plt.title(\"Hospital beds (per 1,000 people)\")\n",
    "plt.ylim(0)\n",
    "plt.show()"
   ]
  },
  {
   "cell_type": "code",
   "execution_count": 72,
   "id": "f1dff5d8",
   "metadata": {},
   "outputs": [
    {
     "data": {
      "text/html": [
       "<div>\n",
       "<style scoped>\n",
       "    .dataframe tbody tr th:only-of-type {\n",
       "        vertical-align: middle;\n",
       "    }\n",
       "\n",
       "    .dataframe tbody tr th {\n",
       "        vertical-align: top;\n",
       "    }\n",
       "\n",
       "    .dataframe thead th {\n",
       "        text-align: right;\n",
       "    }\n",
       "</style>\n",
       "<table border=\"1\" class=\"dataframe\">\n",
       "  <thead>\n",
       "    <tr style=\"text-align: right;\">\n",
       "      <th></th>\n",
       "      <th>Anno</th>\n",
       "      <th>Codice Regione</th>\n",
       "      <th>Descrizione Regione</th>\n",
       "      <th>Codice Azienda</th>\n",
       "      <th>Tipo Azienda</th>\n",
       "      <th>Codice struttura</th>\n",
       "      <th>Denominazione struttura</th>\n",
       "      <th>Indirizzo</th>\n",
       "      <th>Codice Comune</th>\n",
       "      <th>Comune</th>\n",
       "      <th>Sigla provincia</th>\n",
       "      <th>Codice tipo struttura</th>\n",
       "      <th>Descrizione tipo struttura</th>\n",
       "      <th>Tipo di Disciplina</th>\n",
       "      <th>Posti letto degenza ordinaria</th>\n",
       "      <th>Posti letto degenza a pagamento</th>\n",
       "      <th>Posti letto Day Hospital</th>\n",
       "      <th>Posti letto Day Surgery</th>\n",
       "      <th>Totale posti letto</th>\n",
       "    </tr>\n",
       "  </thead>\n",
       "  <tbody>\n",
       "    <tr>\n",
       "      <th>0</th>\n",
       "      <td>2020</td>\n",
       "      <td>10</td>\n",
       "      <td>PIEMONTE</td>\n",
       "      <td>203</td>\n",
       "      <td>1</td>\n",
       "      <td>10030</td>\n",
       "      <td>OSPEDALI RIUNITI PINEROLO</td>\n",
       "      <td>VIA BRIGATA CAGLIARI 39</td>\n",
       "      <td>1191</td>\n",
       "      <td>PINEROLO</td>\n",
       "      <td>TO</td>\n",
       "      <td>1.0</td>\n",
       "      <td>Ospedale a gestione diretta</td>\n",
       "      <td>ACUTI</td>\n",
       "      <td>180</td>\n",
       "      <td>0</td>\n",
       "      <td>6</td>\n",
       "      <td>13</td>\n",
       "      <td>199</td>\n",
       "    </tr>\n",
       "    <tr>\n",
       "      <th>1</th>\n",
       "      <td>2020</td>\n",
       "      <td>10</td>\n",
       "      <td>PIEMONTE</td>\n",
       "      <td>203</td>\n",
       "      <td>1</td>\n",
       "      <td>10030</td>\n",
       "      <td>OSPEDALI RIUNITI PINEROLO</td>\n",
       "      <td>VIA BRIGATA CAGLIARI 39</td>\n",
       "      <td>1191</td>\n",
       "      <td>PINEROLO</td>\n",
       "      <td>TO</td>\n",
       "      <td>1.0</td>\n",
       "      <td>Ospedale a gestione diretta</td>\n",
       "      <td>LUNGODEGENZA</td>\n",
       "      <td>18</td>\n",
       "      <td>0</td>\n",
       "      <td>0</td>\n",
       "      <td>0</td>\n",
       "      <td>18</td>\n",
       "    </tr>\n",
       "    <tr>\n",
       "      <th>2</th>\n",
       "      <td>2020</td>\n",
       "      <td>10</td>\n",
       "      <td>PIEMONTE</td>\n",
       "      <td>203</td>\n",
       "      <td>1</td>\n",
       "      <td>10030</td>\n",
       "      <td>OSPEDALI RIUNITI PINEROLO</td>\n",
       "      <td>VIA BRIGATA CAGLIARI 39</td>\n",
       "      <td>1191</td>\n",
       "      <td>PINEROLO</td>\n",
       "      <td>TO</td>\n",
       "      <td>1.0</td>\n",
       "      <td>Ospedale a gestione diretta</td>\n",
       "      <td>RIABILITAZIONE</td>\n",
       "      <td>17</td>\n",
       "      <td>0</td>\n",
       "      <td>0</td>\n",
       "      <td>0</td>\n",
       "      <td>17</td>\n",
       "    </tr>\n",
       "    <tr>\n",
       "      <th>3</th>\n",
       "      <td>2020</td>\n",
       "      <td>10</td>\n",
       "      <td>PIEMONTE</td>\n",
       "      <td>203</td>\n",
       "      <td>1</td>\n",
       "      <td>10079</td>\n",
       "      <td>OSPEDALI RIUNITI RIVOLI</td>\n",
       "      <td>VIA RIVALTA 29</td>\n",
       "      <td>1219</td>\n",
       "      <td>RIVOLI</td>\n",
       "      <td>TO</td>\n",
       "      <td>1.0</td>\n",
       "      <td>Ospedale a gestione diretta</td>\n",
       "      <td>ACUTI</td>\n",
       "      <td>277</td>\n",
       "      <td>0</td>\n",
       "      <td>9</td>\n",
       "      <td>18</td>\n",
       "      <td>304</td>\n",
       "    </tr>\n",
       "    <tr>\n",
       "      <th>4</th>\n",
       "      <td>2020</td>\n",
       "      <td>10</td>\n",
       "      <td>PIEMONTE</td>\n",
       "      <td>203</td>\n",
       "      <td>1</td>\n",
       "      <td>10079</td>\n",
       "      <td>OSPEDALI RIUNITI RIVOLI</td>\n",
       "      <td>VIA RIVALTA 29</td>\n",
       "      <td>1219</td>\n",
       "      <td>RIVOLI</td>\n",
       "      <td>TO</td>\n",
       "      <td>1.0</td>\n",
       "      <td>Ospedale a gestione diretta</td>\n",
       "      <td>LUNGODEGENZA</td>\n",
       "      <td>15</td>\n",
       "      <td>0</td>\n",
       "      <td>0</td>\n",
       "      <td>0</td>\n",
       "      <td>15</td>\n",
       "    </tr>\n",
       "  </tbody>\n",
       "</table>\n",
       "</div>"
      ],
      "text/plain": [
       "   Anno  Codice Regione Descrizione Regione  Codice Azienda  Tipo Azienda  \\\n",
       "0  2020              10            PIEMONTE             203             1   \n",
       "1  2020              10            PIEMONTE             203             1   \n",
       "2  2020              10            PIEMONTE             203             1   \n",
       "3  2020              10            PIEMONTE             203             1   \n",
       "4  2020              10            PIEMONTE             203             1   \n",
       "\n",
       "   Codice struttura                   Denominazione struttura  \\\n",
       "0             10030  OSPEDALI RIUNITI PINEROLO                  \n",
       "1             10030  OSPEDALI RIUNITI PINEROLO                  \n",
       "2             10030  OSPEDALI RIUNITI PINEROLO                  \n",
       "3             10079                   OSPEDALI RIUNITI RIVOLI   \n",
       "4             10079                   OSPEDALI RIUNITI RIVOLI   \n",
       "\n",
       "                                  Indirizzo  Codice Comune  \\\n",
       "0  VIA BRIGATA CAGLIARI 39                            1191   \n",
       "1  VIA BRIGATA CAGLIARI 39                            1191   \n",
       "2  VIA BRIGATA CAGLIARI 39                            1191   \n",
       "3                            VIA RIVALTA 29           1219   \n",
       "4                            VIA RIVALTA 29           1219   \n",
       "\n",
       "                                     Comune Sigla provincia  \\\n",
       "0  PINEROLO                                              TO   \n",
       "1  PINEROLO                                              TO   \n",
       "2  PINEROLO                                              TO   \n",
       "3  RIVOLI                                                TO   \n",
       "4  RIVOLI                                                TO   \n",
       "\n",
       "   Codice tipo struttura   Descrizione tipo struttura Tipo di Disciplina  \\\n",
       "0                    1.0  Ospedale a gestione diretta              ACUTI   \n",
       "1                    1.0  Ospedale a gestione diretta       LUNGODEGENZA   \n",
       "2                    1.0  Ospedale a gestione diretta     RIABILITAZIONE   \n",
       "3                    1.0  Ospedale a gestione diretta              ACUTI   \n",
       "4                    1.0  Ospedale a gestione diretta       LUNGODEGENZA   \n",
       "\n",
       "   Posti letto degenza ordinaria  Posti letto degenza a pagamento  \\\n",
       "0                            180                                0   \n",
       "1                             18                                0   \n",
       "2                             17                                0   \n",
       "3                            277                                0   \n",
       "4                             15                                0   \n",
       "\n",
       "   Posti letto Day Hospital  Posti letto Day Surgery  Totale posti letto  \n",
       "0                         6                       13                 199  \n",
       "1                         0                        0                  18  \n",
       "2                         0                        0                  17  \n",
       "3                         9                       18                 304  \n",
       "4                         0                        0                  15  "
      ]
     },
     "execution_count": 72,
     "metadata": {},
     "output_type": "execute_result"
    }
   ],
   "source": [
    "data1 = pd.read_csv(\"Datasets/Posti_letto_per_struttura_ospedaliera_2020.csv\", sep=\";\",encoding='cp1252')\n",
    "data1.head()"
   ]
  },
  {
   "cell_type": "code",
   "execution_count": 69,
   "id": "6dd1cef0",
   "metadata": {},
   "outputs": [
    {
     "data": {
      "text/plain": [
       "3.4263463675166186"
      ]
     },
     "execution_count": 69,
     "metadata": {},
     "output_type": "execute_result"
    }
   ],
   "source": [
    "postiLetto2020=data1[\"Totale posti letto\"].sum()\n",
    "#abbiamo diviso per la dimensione della popolazione italiana nel 2020 e moltiplicato per 1000\n",
    "#così abbiamo ottenuto il numero di posti letto per 1000 persone in Italia\n",
    "postiLetto2020/60244639*1000"
   ]
  },
  {
   "cell_type": "code",
   "execution_count": 76,
   "id": "9d260c70",
   "metadata": {},
   "outputs": [
    {
     "data": {
      "text/html": [
       "<div>\n",
       "<style scoped>\n",
       "    .dataframe tbody tr th:only-of-type {\n",
       "        vertical-align: middle;\n",
       "    }\n",
       "\n",
       "    .dataframe tbody tr th {\n",
       "        vertical-align: top;\n",
       "    }\n",
       "\n",
       "    .dataframe thead th {\n",
       "        text-align: right;\n",
       "    }\n",
       "</style>\n",
       "<table border=\"1\" class=\"dataframe\">\n",
       "  <thead>\n",
       "    <tr style=\"text-align: right;\">\n",
       "      <th></th>\n",
       "      <th>Totale posti letto</th>\n",
       "    </tr>\n",
       "    <tr>\n",
       "      <th>Descrizione Regione</th>\n",
       "      <th></th>\n",
       "    </tr>\n",
       "  </thead>\n",
       "  <tbody>\n",
       "    <tr>\n",
       "      <th>ABRUZZO</th>\n",
       "      <td>4323</td>\n",
       "    </tr>\n",
       "    <tr>\n",
       "      <th>BASILICATA</th>\n",
       "      <td>1804</td>\n",
       "    </tr>\n",
       "    <tr>\n",
       "      <th>CALABRIA</th>\n",
       "      <td>5721</td>\n",
       "    </tr>\n",
       "    <tr>\n",
       "      <th>CAMPANIA</th>\n",
       "      <td>17184</td>\n",
       "    </tr>\n",
       "    <tr>\n",
       "      <th>EMILIA ROMAGNA</th>\n",
       "      <td>15869</td>\n",
       "    </tr>\n",
       "  </tbody>\n",
       "</table>\n",
       "</div>"
      ],
      "text/plain": [
       "                     Totale posti letto\n",
       "Descrizione Regione                    \n",
       "ABRUZZO                            4323\n",
       "BASILICATA                         1804\n",
       "CALABRIA                           5721\n",
       "CAMPANIA                          17184\n",
       "EMILIA ROMAGNA                    15869"
      ]
     },
     "execution_count": 76,
     "metadata": {},
     "output_type": "execute_result"
    }
   ],
   "source": [
    "postiLetto2020Regioni=data1[[\"Descrizione Regione\",\"Totale posti letto\"]]\n",
    "postiLetto2020Regioni=postiLetto2020Regioni.groupby(['Descrizione Regione']).sum()\n",
    "postiLetto2020Regioni.sort_index(inplace=True)\n",
    "\n",
    "postiLetto2020Regioni.head()"
   ]
  },
  {
   "cell_type": "code",
   "execution_count": 85,
   "id": "b531e9e0",
   "metadata": {},
   "outputs": [
    {
     "data": {
      "text/html": [
       "<div>\n",
       "<style scoped>\n",
       "    .dataframe tbody tr th:only-of-type {\n",
       "        vertical-align: middle;\n",
       "    }\n",
       "\n",
       "    .dataframe tbody tr th {\n",
       "        vertical-align: top;\n",
       "    }\n",
       "\n",
       "    .dataframe thead th {\n",
       "        text-align: right;\n",
       "    }\n",
       "</style>\n",
       "<table border=\"1\" class=\"dataframe\">\n",
       "  <thead>\n",
       "    <tr style=\"text-align: right;\">\n",
       "      <th></th>\n",
       "      <th>Totale abitanti</th>\n",
       "    </tr>\n",
       "    <tr>\n",
       "      <th>Descrizione Regione</th>\n",
       "      <th></th>\n",
       "    </tr>\n",
       "  </thead>\n",
       "  <tbody>\n",
       "    <tr>\n",
       "      <th>ABRUZZO</th>\n",
       "      <td>5175764</td>\n",
       "    </tr>\n",
       "    <tr>\n",
       "      <th>BASILICATA</th>\n",
       "      <td>2213016</td>\n",
       "    </tr>\n",
       "    <tr>\n",
       "      <th>CALABRIA</th>\n",
       "      <td>7576440</td>\n",
       "    </tr>\n",
       "    <tr>\n",
       "      <th>CAMPANIA</th>\n",
       "      <td>22848572</td>\n",
       "    </tr>\n",
       "    <tr>\n",
       "      <th>EMILIA ROMAGNA</th>\n",
       "      <td>17856476</td>\n",
       "    </tr>\n",
       "  </tbody>\n",
       "</table>\n",
       "</div>"
      ],
      "text/plain": [
       "                     Totale abitanti\n",
       "Descrizione Regione                 \n",
       "ABRUZZO                      5175764\n",
       "BASILICATA                   2213016\n",
       "CALABRIA                     7576440\n",
       "CAMPANIA                    22848572\n",
       "EMILIA ROMAGNA              17856476"
      ]
     },
     "execution_count": 85,
     "metadata": {},
     "output_type": "execute_result"
    }
   ],
   "source": [
    "popolazioneRegioni2020=pd.read_csv(\"Datasets/Popolazione_Regioni_2020.csv\", sep=\",\")\n",
    "popolazioneRegioni2020.head()\n",
    "popolazioneRegioni2020 = popolazioneRegioni2020.groupby(['Territorio']).sum()\n",
    "popolazioneRegioni2020 = popolazioneRegioni2020[[\"Value\"]]\n",
    "popolazioneRegioni2020= popolazioneRegioni2020.rename(columns={'Value':'Totale abitanti'})\n",
    "popolazioneRegioni2020=popolazioneRegioni2020.drop(\"Trentino Alto Adige / Südtirol\")\n",
    "popolazioneRegioni2020.sort_index(inplace=True)\n",
    "popolazioneRegioni2020 =popolazioneRegioni2020.set_index(postiLetto2020Regioni.index)\n",
    "\n",
    "popolazioneRegioni2020.head()"
   ]
  },
  {
   "cell_type": "code",
   "execution_count": 86,
   "id": "8ea440fb",
   "metadata": {},
   "outputs": [
    {
     "data": {
      "text/plain": [
       "[0.835239010124882,\n",
       " 0.8151771157551504,\n",
       " 0.7551039802334606,\n",
       " 0.7520820119524319,\n",
       " 0.8886971875077703,\n",
       " 0.8700763379029959,\n",
       " 0.8754365237938044,\n",
       " 0.9414188897618483,\n",
       " 0.939107874444957,\n",
       " 0.8688268177106471,\n",
       " 0.96667065979848,\n",
       " 0.9534430765141259,\n",
       " 0.9396520002102718,\n",
       " 0.9666773616904248,\n",
       " 0.7861144030121632,\n",
       " 0.8505411632139318,\n",
       " 0.812567047293597,\n",
       " 0.8124455830718839,\n",
       " 0.9256865077312924,\n",
       " 1.049714477662076,\n",
       " 0.8851982514106502]"
      ]
     },
     "execution_count": 86,
     "metadata": {},
     "output_type": "execute_result"
    }
   ],
   "source": [
    "postiLetto2020norm = [x[1][\"Totale posti letto\"] / popolazioneRegioni2020.loc[x[0]].values[0] *1000 for x in postiLetto2020Regioni.iterrows()]\n",
    "postiLetto2020norm"
   ]
  },
  {
   "cell_type": "code",
   "execution_count": 8,
   "id": "1e057bb6",
   "metadata": {},
   "outputs": [
    {
     "data": {
      "image/png": "[encoded data removed]",
      "text/plain": [
       "<Figure size 640x480 with 1 Axes>"
      ]
     },
     "metadata": {},
     "output_type": "display_data"
    }
   ],
   "source": [
    "plt.bar(postiLetto2020Regioni.index,postiLetto2020Regioni[\"Totale posti letto\"],width=1)\n",
    "plt.show()"
   ]
  },
  {
   "cell_type": "code",
   "execution_count": 88,
   "id": "b3c02614",
   "metadata": {},
   "outputs": [
    {
     "data": {
      "image/png": "[encoded data removed]",
      "text/plain": [
       "<Figure size 640x480 with 1 Axes>"
      ]
     },
     "metadata": {},
     "output_type": "display_data"
    }
   ],
   "source": [
    "plt.bar(popolazioneRegioni2020.index,popolazioneRegioni2020[\"Totale abitanti\"],width=1)\n",
    "plt.show()"
   ]
  },
  {
   "cell_type": "code",
   "execution_count": null,
   "id": "f4bd9afe",
   "metadata": {},
   "outputs": [],
   "source": [
    "#VARIANTE!!!!!!!!!!\n"
   ]
  }
 ],
 "metadata": {
  "kernelspec": {
   "display_name": "Python 3 (ipykernel)",
   "language": "python",
   "name": "python3"
  },
  "language_info": {
   "codemirror_mode": {
    "name": "ipython",
    "version": 3
   },
   "file_extension": ".py",
   "mimetype": "text/x-python",
   "name": "python",
   "nbconvert_exporter": "python",
   "pygments_lexer": "ipython3",
   "version": "3.9.13"
  }
 },
 "nbformat": 4,
 "nbformat_minor": 5
}
